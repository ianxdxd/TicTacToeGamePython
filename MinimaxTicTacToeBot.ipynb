{
  "nbformat": 4,
  "nbformat_minor": 0,
  "metadata": {
    "colab": {
      "provenance": [],
      "authorship_tag": "ABX9TyNi7MhM0k0PMg7dAVYnFlx3",
      "include_colab_link": true
    },
    "kernelspec": {
      "name": "python3",
      "display_name": "Python 3"
    },
    "language_info": {
      "name": "python"
    }
  },
  "cells": [
    {
      "cell_type": "markdown",
      "metadata": {
        "id": "view-in-github",
        "colab_type": "text"
      },
      "source": [
        "<a href=\"https://colab.research.google.com/github/ianxdxd/TicTacToeGamePython/blob/main/MinimaxTicTacToeBot.ipynb\" target=\"_parent\"><img src=\"https://colab.research.google.com/assets/colab-badge.svg\" alt=\"Open In Colab\"/></a>"
      ]
    },
    {
      "cell_type": "markdown",
      "source": [
        "# TicTacToe Solver Bot (using minimax algorithm)\n",
        "\n",
        "Created by **Ian Callegari Aragão**\n",
        "\n",
        "June 13rd 2023"
      ],
      "metadata": {
        "id": "nheuCM6GVgJ3"
      }
    },
    {
      "cell_type": "code",
      "execution_count": 25,
      "metadata": {
        "id": "szddRti7VfUh"
      },
      "outputs": [],
      "source": [
        "board  = {1: ' ', 2: ' ', 3: ' ',\n",
        "          4: ' ', 5: ' ', 6: ' ',\n",
        "          7: ' ', 8: ' ', 9: ' ',}\n",
        "\n",
        "player = 'O'\n",
        "computer = 'X'\n"
      ]
    },
    {
      "cell_type": "code",
      "source": [
        "# Print the Board\n",
        "\n",
        "def printBoard(board):\n",
        "  print(board[1] + \"|\" + board[2] + \"|\" + board[3])\n",
        "  print(\"--+--+--\")\n",
        "  print(board[4] + \"|\" + board[5] + \"|\" + board[6])\n",
        "  print(\"--+--+--\")\n",
        "  print(board[7] + \"|\" + board[8] + \"|\" + board[9])\n",
        "  print(\"\\n\")"
      ],
      "metadata": {
        "id": "qpNB6wpKVfqy"
      },
      "execution_count": null,
      "outputs": []
    },
    {
      "cell_type": "code",
      "source": [
        "# Check if the position is free\n",
        "\n",
        "def spaceFree(position):\n",
        "  if board[position] == ' ':\n",
        "    return True\n",
        "  return False"
      ],
      "metadata": {
        "id": "gQrSrg6bWV20"
      },
      "execution_count": null,
      "outputs": []
    },
    {
      "cell_type": "code",
      "source": [
        "# Bot inserting a letter Function\n",
        "\n",
        "def insertLetter(letter, position):\n",
        "  if spaceFree(position):\n",
        "    board[position] = letter\n",
        "    printBoard(board)\n",
        "    if checkDraw():\n",
        "      print(\"It's a Draw!\")\n",
        "      exit()\n",
        "    if checkWin():\n",
        "      if letter == \"X\":\n",
        "        print(\"Bot wins.\")\n",
        "        exit()\n",
        "      else:\n",
        "        print(\"Player wins.\")\n",
        "        exit()\n",
        "      return\n",
        "  else:\n",
        "    print(\"Spot already taken!\")\n",
        "    position = int(input(\"Enter a new position\"))\n",
        "    insertLetter(letter, position)\n",
        "    return"
      ],
      "metadata": {
        "id": "aEiURSKjWixH"
      },
      "execution_count": null,
      "outputs": []
    },
    {
      "cell_type": "code",
      "source": [
        "# Check Win and Check Draw\n",
        "\n",
        "def checkWin():\n",
        "   if (board[1] == board[2] and board[1] == board[3] and board[1] != ' '):\n",
        "        return True\n",
        "   elif (board[4] == board[5] and board[4] == board[6] and board[4] != ' '):\n",
        "        return True\n",
        "   elif (board[7] == board[8] and board[7] == board[9] and board[7] != ' '):\n",
        "        return True\n",
        "   elif (board[1] == board[4] and board[1] == board[7] and board[1] != ' '):\n",
        "        return True\n",
        "   elif (board[2] == board[5] and board[2] == board[8] and board[2] != ' '):\n",
        "        return True\n",
        "   elif (board[3] == board[6] and board[3] == board[9] and board[3] != ' '):\n",
        "        return True\n",
        "   elif (board[1] == board[5] and board[1] == board[9] and board[1] != ' '):\n",
        "        return True\n",
        "   elif (board[7] == board[5] and board[7] == board[3] and board[7] != ' '):\n",
        "        return True\n",
        "   else:\n",
        "        return False\n",
        "\n",
        "def checkDraw():\n",
        "  for key in board.keys():\n",
        "    if board[key] == ' ':\n",
        "      return False\n",
        "  return True\n",
        "\n",
        "\n",
        "def checkWhichMarkWon(mark):\n",
        "  if (board[1] == board[2] and board[1] == board[3] and board[1] != mark):\n",
        "        return True\n",
        "  elif (board[4] == board[5] and board[4] == board[6] and board[4] == mark):\n",
        "        return True\n",
        "  elif (board[7] == board[8] and board[7] == board[9] and board[7] == mark):\n",
        "        return True\n",
        "  elif (board[1] == board[4] and board[1] == board[7] and board[1] == mark):\n",
        "        return True\n",
        "  elif (board[2] == board[5] and board[2] == board[8] and board[2] == mark):\n",
        "        return True\n",
        "  elif (board[3] == board[6] and board[3] == board[9] and board[3] == mark):\n",
        "        return True\n",
        "  elif (board[1] == board[5] and board[1] == board[9] and board[1] == mark):\n",
        "        return True\n",
        "  elif (board[7] == board[5] and board[7] == board[3] and board[7] == mark):\n",
        "        return True\n",
        "  else:\n",
        "        return False\n",
        "\n"
      ],
      "metadata": {
        "id": "uOEfkN0nX_KK"
      },
      "execution_count": null,
      "outputs": []
    },
    {
      "cell_type": "code",
      "source": [
        "# How the Player moves\n",
        "\n",
        "def playerMove():\n",
        "  position = int(input(\"Enter a position for O: \"))\n",
        "  insertLetter(player, position)\n",
        "  return"
      ],
      "metadata": {
        "id": "UPJqNS60YwGm"
      },
      "execution_count": null,
      "outputs": []
    },
    {
      "cell_type": "code",
      "source": [
        "# Minimax algorithm\n",
        "\n",
        "def minimax(board, isMaximazing):\n",
        "  if checkWhichMarkWon(computer):\n",
        "    return 1\n",
        "  elif checkWhichMarkWon(player):\n",
        "    return -1\n",
        "  elif checkDraw():\n",
        "    return 0\n",
        "\n",
        "  if isMaximazing:\n",
        "    bestScore = -10\n",
        "    for key in board.keys():\n",
        "      if board[key] == ' ':\n",
        "        board[key] = computer\n",
        "        score = minimax(board, False)\n",
        "        board[key] = ' '\n",
        "        if score > bestScore:\n",
        "          bestScore = score\n",
        "    return bestScore\n",
        "  else:\n",
        "    bestScore = 10\n",
        "    for key in board.keys():\n",
        "      if board[key] == ' ':\n",
        "        board[key] = player\n",
        "        score = minimax(board, True)\n",
        "        board[key] = ' '\n",
        "        if score < bestScore:\n",
        "          bestScore = score\n",
        "    return bestScore\n"
      ],
      "metadata": {
        "id": "XqnIiOTocwRX"
      },
      "execution_count": 26,
      "outputs": []
    },
    {
      "cell_type": "code",
      "source": [
        "# Computer moves\n",
        "\n",
        "def computerMove():\n",
        "  bestScore = -10\n",
        "  bestMove = 0\n",
        "  for key in board.keys():\n",
        "    if board[key] == ' ': # see if it's a good move\n",
        "      board[key] = computer\n",
        "      score = minimax(board, False)\n",
        "      board[key] = ' '\n",
        "      if score > bestScore:\n",
        "        bestScore = score\n",
        "        bestMove = key\n",
        "  insertLetter(computer,bestMove)\n"
      ],
      "metadata": {
        "id": "app0Qs_3ZjQe"
      },
      "execution_count": null,
      "outputs": []
    },
    {
      "cell_type": "code",
      "source": [
        "# Loop\n",
        "\n",
        "while not checkWin():\n",
        "  printBoard(board)\n",
        "  computerMove()\n",
        "  playerMove()\n"
      ],
      "metadata": {
        "id": "t9ZLvHpcZ33G"
      },
      "execution_count": null,
      "outputs": []
    }
  ]
}