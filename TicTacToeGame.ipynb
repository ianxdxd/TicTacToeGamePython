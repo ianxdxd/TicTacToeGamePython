{
  "cells": [
    {
      "cell_type": "markdown",
      "metadata": {
        "id": "view-in-github",
        "colab_type": "text"
      },
      "source": [
        "<a href=\"https://colab.research.google.com/github/ianxdxd/TicTacToeGamePython/blob/main/TicTacToeGame.ipynb\" target=\"_parent\"><img src=\"https://colab.research.google.com/assets/colab-badge.svg\" alt=\"Open In Colab\"/></a>"
      ]
    },
    {
      "cell_type": "markdown",
      "metadata": {
        "id": "YHFCiwIbHXSO"
      },
      "source": [
        "# Tic Tac Toe Game using Python.\n",
        "Created by **Ian Callegari Aragão**\n",
        "\n",
        "June 12nd 2023"
      ]
    },
    {
      "cell_type": "code",
      "execution_count": null,
      "metadata": {
        "id": "jNEiEJ0eH-0d"
      },
      "outputs": [],
      "source": [
        "import random\n",
        "\n",
        "board = [\"-\", \"-\", \"-\",\n",
        "         \"-\", \"-\", \"-\",\n",
        "         \"-\", \"-\", \"-\"]\n",
        "\n",
        "currentPlayer = \"X\" #start everygame with player X\n",
        "winner  = None\n",
        "gameRunning = True # variable to control the loop"
      ]
    },
    {
      "cell_type": "code",
      "execution_count": null,
      "metadata": {
        "id": "fO2fts-qHWw-"
      },
      "outputs": [],
      "source": [
        "# Printing the board\n",
        "\n",
        "def printBoard(board):\n",
        "  print(board[0] + \" | \" + board[1] + \" | \" + board[2])\n",
        "  print(\"---------\")\n",
        "  print(board[3] + \" | \" + board[4] + \" | \" + board[5])\n",
        "  print(\"---------\")\n",
        "  print(board[6] + \" | \" + board[7] + \" | \" + board[8])\n",
        "printBoard(board)"
      ]
    },
    {
      "cell_type": "code",
      "execution_count": null,
      "metadata": {
        "id": "cGUMwlVDHyRX"
      },
      "outputs": [],
      "source": [
        "# Get the player input\n",
        "\n",
        "def playerInput(board):\n",
        "  inp = int(input(\"Enter a number from 1 to 9: \"))\n",
        "  if inp >= 1 and inp <= 9 and board[inp-1] == \"-\":\n",
        "    board[inp-1] = currentPlayer\n",
        "  else:\n",
        "    print(\"The spot is already taken! Choose another one.\")"
      ]
    },
    {
      "cell_type": "code",
      "execution_count": null,
      "metadata": {
        "id": "7Y-of5gSHy91"
      },
      "outputs": [],
      "source": [
        "# Check for a win or a tie\n",
        "\n",
        "def checkHorizontal(board):\n",
        "  global winner # global changes the value in the entire code, not only in the function\n",
        "  if board[0] == board[1] == board[2] and board[1] != \"-\":\n",
        "    winner = board[0]\n",
        "    return True\n",
        "  elif board[3] == board[4] == board[5] and board[3] != \"-\":\n",
        "    winner = board[3]\n",
        "    return True\n",
        "  elif board[6] == board[7] == board[8] and board[6] != \"-\":\n",
        "    winner = board[6]\n",
        "    return True\n",
        "\n",
        "\n",
        "def checkRow(board):\n",
        "  global winner\n",
        "  if board [0] == board[3] == board[6] and board[0] != \"-\":\n",
        "    winner = board[0]\n",
        "    return True\n",
        "  elif board [1] == board[4] == board[7] and board[1] != \"-\":\n",
        "    winner = board[1]\n",
        "    return True\n",
        "  elif board [2] == board[5] == board[8] and board[2] != \"-\":\n",
        "    winner = board[2]\n",
        "    return True\n",
        "\n",
        "\n",
        "def checkDiagonal(board):\n",
        "  global winner\n",
        "  if board [0] == board[4] == board[8] and board[0] != \"-\":\n",
        "    winner = board[0]\n",
        "    return True\n",
        "  elif board [2] == board[4] == board[6] and board[2] != \"-\":\n",
        "    winner = board[2]\n",
        "    return True\n",
        "\n",
        "\n",
        "def checkTie(board):\n",
        "  global gameRunning\n",
        "  if \"-\" not in board:\n",
        "    printBoard(board)\n",
        "    print(\"It's a tie!\")\n",
        "    gameRunning = False\n",
        "\n",
        "\n",
        "def checkWin():\n",
        "  if checkDiagonal(board) or checkHorizontal(board) or checkRow(board):\n",
        "    print(f\"The winner is {winner}\")\n",
        "    gameRunning = False\n",
        "    exit()\n",
        "\n",
        "\n"
      ]
    },
    {
      "cell_type": "code",
      "execution_count": null,
      "metadata": {
        "id": "LRoXvSjBHzJX"
      },
      "outputs": [],
      "source": [
        "# Switch who'se the one playing\n",
        "\n",
        "def switchPlayer():\n",
        "  global currentPlayer\n",
        "  if currentPlayer == \"X\":\n",
        "    currentPlayer = \"O\"\n",
        "  else:\n",
        "    currentPlayer = \"X\"\n"
      ]
    },
    {
      "cell_type": "code",
      "execution_count": null,
      "metadata": {
        "id": "oHkTbbM-aHp7"
      },
      "outputs": [],
      "source": [
        "# Computer\n",
        "\n",
        "def computer(board):\n",
        "  while currentPlayer  == \"O\":\n",
        "    position = random.randint(0, 8)\n",
        "    if board[position] == \"-\":\n",
        "      board[position] = \"O\"\n",
        "      switchPlayer()"
      ]
    },
    {
      "cell_type": "code",
      "execution_count": null,
      "metadata": {
        "colab": {
          "background_save": true
        },
        "id": "rN8SEzzGHzPY"
      },
      "outputs": [],
      "source": [
        "# Check for a win or a tie (again)\n",
        "\n",
        "while gameRunning:\n",
        "  printBoard(board)\n",
        "  playerInput(board)\n",
        "  checkWin()\n",
        "  checkTie(board)\n",
        "  switchPlayer()\n",
        "  computer(board)\n",
        "  checkWin()\n",
        "  checkTie(board)"
      ]
    }
  ],
  "metadata": {
    "colab": {
      "provenance": [],
      "authorship_tag": "ABX9TyNoNf3Rm4yAGT33N9KzbU/G",
      "include_colab_link": true
    },
    "kernelspec": {
      "display_name": "Python 3",
      "name": "python3"
    },
    "language_info": {
      "name": "python"
    }
  },
  "nbformat": 4,
  "nbformat_minor": 0
}